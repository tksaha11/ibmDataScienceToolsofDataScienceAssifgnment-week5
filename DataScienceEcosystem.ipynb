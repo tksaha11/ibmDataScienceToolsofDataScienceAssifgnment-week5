{
 "cells": [
  {
   "cell_type": "markdown",
   "id": "93a152cc",
   "metadata": {},
   "source": [
    "# DataScienceEcosystem"
   ]
  },
  {
   "cell_type": "markdown",
   "id": "c7d6c5bd",
   "metadata": {},
   "source": [
    "In this notebook, Data Science Tools and Ecosystem are summarized"
   ]
  },
  {
   "cell_type": "markdown",
   "id": "59a8049f",
   "metadata": {},
   "source": [
    "__Objectives:__\n",
    "- Popular languages that Data Scientist Use\n",
    "- Popular Libraries that Data Scientist Use\n",
    "- Popular Data Science Tools\n",
    "- Some Arithmatic Operations"
   ]
  },
  {
   "cell_type": "markdown",
   "id": "4db6c210",
   "metadata": {},
   "source": [
    "\n",
    "Some of the populer languages that Data Scientist use are:<br>\n",
    "    1. Python<br>\n",
    "    2. R<br>\n",
    "    3. SQL<br>\n",
    "    4. Java<br>\n",
    "    5. Scala<br>\n",
    "    6. MatLab"
   ]
  },
  {
   "cell_type": "markdown",
   "id": "aab62fc3",
   "metadata": {},
   "source": [
    "Some libraries that data scientist use: <br>\n",
    "\n",
    "1.GGplot <br>\n",
    "2.NumPy<br>\n",
    "3.Pandas<br>\n",
    "4.Matplotlib<br>\n",
    "5.PyTorch<br>\n",
    "6.Keras<br>"
   ]
  },
  {
   "cell_type": "markdown",
   "id": "05ee81e2",
   "metadata": {},
   "source": [
    "|Data Science Tool|\n",
    "|:---------------:|\n",
    "|Jupyter Notebook|\n",
    "|R Studio|\n",
    "|Apache Spark|\n",
    "|TensorFlow|"
   ]
  },
  {
   "cell_type": "markdown",
   "id": "47d5eef5",
   "metadata": {},
   "source": [
    "### Below are a few examples of evaluating arithmetic expressions in Python."
   ]
  },
  {
   "cell_type": "code",
   "execution_count": 9,
   "id": "15aabbac",
   "metadata": {},
   "outputs": [
    {
     "data": {
      "text/plain": [
       "17"
      ]
     },
     "execution_count": 9,
     "metadata": {},
     "output_type": "execute_result"
    }
   ],
   "source": [
    "#This a simple arithmetic expression to mutiply then add integers\n",
    "\n",
    "(3*4)+5"
   ]
  },
  {
   "cell_type": "code",
   "execution_count": 11,
   "id": "59f01700",
   "metadata": {},
   "outputs": [
    {
     "data": {
      "text/plain": [
       "3.3333333333333335"
      ]
     },
     "execution_count": 11,
     "metadata": {},
     "output_type": "execute_result"
    }
   ],
   "source": [
    "# This will convert 200 minutes to hours by diving by 60.\n",
    "\n",
    "200/60"
   ]
  },
  {
   "cell_type": "markdown",
   "id": "bc2056a9",
   "metadata": {},
   "source": [
    "**Author**\n",
    "Tanmoy"
   ]
  },
  {
   "cell_type": "code",
   "execution_count": null,
   "id": "7a398670",
   "metadata": {},
   "outputs": [],
   "source": []
  }
 ],
 "metadata": {
  "kernelspec": {
   "display_name": "Python 3 (ipykernel)",
   "language": "python",
   "name": "python3"
  },
  "language_info": {
   "codemirror_mode": {
    "name": "ipython",
    "version": 3
   },
   "file_extension": ".py",
   "mimetype": "text/x-python",
   "name": "python",
   "nbconvert_exporter": "python",
   "pygments_lexer": "ipython3",
   "version": "3.10.9"
  }
 },
 "nbformat": 4,
 "nbformat_minor": 5
}
